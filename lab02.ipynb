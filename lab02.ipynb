{
  "nbformat": 4,
  "nbformat_minor": 0,
  "metadata": {
    "colab": {
      "provenance": [],
      "authorship_tag": "ABX9TyPx7dKMo1hSfSrU7qiv36pI",
      "include_colab_link": true
    },
    "kernelspec": {
      "name": "python3",
      "display_name": "Python 3"
    },
    "language_info": {
      "name": "python"
    }
  },
  "cells": [
    {
      "cell_type": "markdown",
      "metadata": {
        "id": "view-in-github",
        "colab_type": "text"
      },
      "source": [
        "<a href=\"https://colab.research.google.com/github/saifullahshaikh09/DS_A-Labs/blob/main/lab03.ipynb\" target=\"_parent\"><img src=\"https://colab.research.google.com/assets/colab-badge.svg\" alt=\"Open In Colab\"/></a>"
      ]
    },
    {
      "cell_type": "code",
      "execution_count": 1,
      "metadata": {
        "colab": {
          "base_uri": "https://localhost:8080/"
        },
        "id": "XoBBvQaiZaOC",
        "outputId": "311251dd-61a1-4653-e9e7-176013745883"
      },
      "outputs": [
        {
          "output_type": "stream",
          "name": "stdout",
          "text": [
            "Hello\n"
          ]
        }
      ],
      "source": [
        "print(\"Hello\")"
      ]
    },
    {
      "cell_type": "code",
      "source": [
        "print(\"my name is saifyy\")"
      ],
      "metadata": {
        "colab": {
          "base_uri": "https://localhost:8080/"
        },
        "id": "BsweorkeZ8k_",
        "outputId": "25be14e1-5d32-4b25-de68-2ec62dbb84b6"
      },
      "execution_count": 2,
      "outputs": [
        {
          "output_type": "stream",
          "name": "stdout",
          "text": [
            "my name is saifyy\n"
          ]
        }
      ]
    },
    {
      "cell_type": "markdown",
      "source": [
        "**Task 1**\n",
        "\"\"\""
      ],
      "metadata": {
        "id": "UVBDSz7w3Bm7"
      }
    },
    {
      "cell_type": "code",
      "source": [
        "points = 174\n",
        "\n",
        "result = \"\"\n",
        "\n",
        "if points >= 1 and points <= 50:\n",
        "    result = \"wooden rabbit\"\n",
        "elif points > 50 and points <= 150:\n",
        "    result = \"no prize\"\n",
        "elif points > 150 and points <= 180:\n",
        "    result = \"water-thin mint\"\n",
        "elif points > 180 and points <= 200:\n",
        "    result = \"penguin\"\n",
        "else:\n",
        "    result = \"error\"\n",
        "\n",
        "print(result)\n"
      ],
      "metadata": {
        "id": "c4PbDo2U1th6"
      },
      "execution_count": null,
      "outputs": []
    },
    {
      "cell_type": "markdown",
      "source": [
        "Task 2"
      ],
      "metadata": {
        "id": "kePpmK_93HLa"
      }
    },
    {
      "cell_type": "code",
      "source": [],
      "metadata": {
        "id": "PSRtZ__13abl"
      },
      "execution_count": null,
      "outputs": []
    },
    {
      "cell_type": "code",
      "source": [
        "answer = 42\n",
        "guess = int(input(\"Enter your guess: \"))\n",
        "if guess < answer:\n",
        "    result = \"Oops! Your guess was too low.\"\n",
        "elif guess > answer:\n",
        "    result = \"Oops! Your guess was too high.\"\n",
        "else:\n",
        "    result = \"Nice! Your guess matched the answer!\"\n",
        "\n",
        "print(result)\n"
      ],
      "metadata": {
        "id": "8jQIkuSY3Qye"
      },
      "execution_count": null,
      "outputs": []
    },
    {
      "cell_type": "markdown",
      "source": [
        "task 3"
      ],
      "metadata": {
        "id": "M2hvpY933Vih"
      }
    },
    {
      "cell_type": "code",
      "source": [
        "tax_rates = {\n",
        "    \"CA\": 0.075,  # 7.5%\n",
        "    \"MN\": 0.095,  # 9.5%\n",
        "    \"NY\": 0.089,  # 8.9%\n",
        "}\n",
        "\n",
        "amount_of_purchase = float(input(\"Enter the amount of the purchase: \"))\n",
        "state = input(\"Enter the state (CA, MN, or NY): \")\n",
        "\n",
        "if state in tax_rates:\n",
        "    tax_rate = tax_rates[state]\n",
        "    tax_amount = amount_of_purchase * tax_rate\n",
        "    total_amount = amount_of_purchase + tax_amount\n",
        "\n",
        "    print(f\"Tax amount: ${tax_amount:.2f}\")\n",
        "    print(f\"Total amount including tax: ${total_amount:.2f}\")\n",
        "else:\n",
        "    print(\"Invalid state. Please enter CA, MN, or NY.\")\n"
      ],
      "metadata": {
        "id": "qS-DQJ-i3c1j"
      },
      "execution_count": null,
      "outputs": []
    },
    {
      "cell_type": "markdown",
      "source": [
        "task 4"
      ],
      "metadata": {
        "id": "MXaZAg9X3hi2"
      }
    },
    {
      "cell_type": "code",
      "source": [
        "sentence = [\"the\", \"quick\", \"brown\", \"fox\", \"jumped\", \"over\", \"the\", \"lazy\", \"dog\"]\n",
        "for word in sentence:\n",
        "  print(word)\n",
        "\n",
        "\"\"\"**Task 5**\"\"\"\n",
        "\n",
        "for i in range (1, 30):\n",
        "  if i%5==0 :\n",
        "    print(i)\n"
      ],
      "metadata": {
        "id": "Uz_x2wjB3i34"
      },
      "execution_count": null,
      "outputs": []
    },
    {
      "cell_type": "markdown",
      "source": [
        "task 5"
      ],
      "metadata": {
        "id": "n9Z5UHeW3m5V"
      }
    },
    {
      "cell_type": "code",
      "source": [
        "for i in range (1, 30):\n",
        "  if i%5==0 :\n",
        "    print(i)"
      ],
      "metadata": {
        "id": "dVcFhOd03oUr"
      },
      "execution_count": null,
      "outputs": []
    },
    {
      "cell_type": "markdown",
      "source": [
        "task 6"
      ],
      "metadata": {
        "id": "n9KVlrhF3uHj"
      }
    },
    {
      "cell_type": "code",
      "source": [
        "names = [\"Rick Sanchez\", \"Morty Smith\", \"Summer Smith\", \"Jerry Smith\", \"Beth Smith\"]\n",
        "first_names = names[0]\n",
        "\n",
        "print(first_names)\n"
      ],
      "metadata": {
        "id": "SQsz_wjV3vbI"
      },
      "execution_count": null,
      "outputs": []
    },
    {
      "cell_type": "markdown",
      "source": [
        "task 7"
      ],
      "metadata": {
        "id": "YzfHE7Sd30ZC"
      }
    },
    {
      "cell_type": "code",
      "source": [
        "multiples_3 = [i * 3 for i in range(1, 20)]\n",
        "\n",
        "# Print the list\n",
        "print(multiples_3)\n"
      ],
      "metadata": {
        "id": "Vf0A8x8z338i"
      },
      "execution_count": null,
      "outputs": []
    },
    {
      "cell_type": "markdown",
      "source": [
        "task 8"
      ],
      "metadata": {
        "id": "hC-SKiMv39VU"
      }
    },
    {
      "cell_type": "code",
      "source": [
        "scores = {\n",
        "    \"Rick Sanchez\": 70,\n",
        "    \"Morty Smith\": 35,\n",
        "    \"Summer Smith\": 82,\n",
        "    \"Jerry Smith\": 23,\n",
        "    \"Beth Smith\": 98\n",
        "}"
      ],
      "metadata": {
        "id": "0VCdcIq03-Ze"
      },
      "execution_count": null,
      "outputs": []
    },
    {
      "cell_type": "markdown",
      "source": [
        "task 9"
      ],
      "metadata": {
        "id": "JoZkSKb24AOp"
      }
    },
    {
      "cell_type": "code",
      "source": [
        "cast_names = [\"Barney\", \"Robin\", \"Ted\", \"Lily\", \"Marshall\"]\n",
        "cast_heights = [72, 68, 72, 66, 76]\n",
        "\n",
        "# Using zip to combine the lists and then converting to a dictionary\n",
        "cast = dict(zip(cast_names, cast_heights))\n",
        "\n",
        "print(cast)\n"
      ],
      "metadata": {
        "id": "co3p8nWY4Dg7"
      },
      "execution_count": null,
      "outputs": []
    },
    {
      "cell_type": "markdown",
      "source": [
        "task 10"
      ],
      "metadata": {
        "id": "qAJ25rWk4EYH"
      }
    },
    {
      "cell_type": "code",
      "source": [
        "\n",
        "cast = [\"Barney Stinson\", \"Robin Scherbatsky\", \"Ted Mosby\", \"Lily Aldrin\", \"Marshall Eriksen\"]\n",
        "heights = [72, 68, 72, 66, 76]\n",
        "\n",
        "# Using enumerate to modify each element in the cast list\n",
        "for index, name in enumerate(cast):\n",
        "    height = heights[index]\n",
        "    cast[index] = f\"{name} {height}\"\n",
        "\n",
        "print(cast)"
      ],
      "metadata": {
        "id": "ysCb7C3_4FsI"
      },
      "execution_count": null,
      "outputs": []
    },
    {
      "cell_type": "code",
      "source": [],
      "metadata": {
        "id": "1-DpWzDPdSs_"
      },
      "execution_count": null,
      "outputs": []
    }
  ]
}
